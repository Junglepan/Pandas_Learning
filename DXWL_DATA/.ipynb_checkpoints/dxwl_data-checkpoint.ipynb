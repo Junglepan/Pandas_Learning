{
 "cells": [
  {
   "cell_type": "code",
   "execution_count": 1,
   "id": "f9653d7d",
   "metadata": {},
   "outputs": [
    {
     "name": "stdout",
     "output_type": "stream",
     "text": [
      "                    时间       用户ID       姓名     账号       group1    group2  \\\n",
      "0  2022-02-14 10:23:57  147113078  \\t张老师\\t  55048  \\t数学与物理学院\\t  \\t其他院系\\t   \n",
      "1  2022-02-14 10:23:57  147113078  \\t张老师\\t  55048  \\t数学与物理学院\\t  \\t其他院系\\t   \n",
      "2  2022-02-14 10:23:57  147113078  \\t张老师\\t  55048  \\t数学与物理学院\\t  \\t其他院系\\t   \n",
      "3  2022-02-14 10:23:59  147113078  \\t张老师\\t  55048  \\t数学与物理学院\\t  \\t其他院系\\t   \n",
      "4  2022-02-14 10:24:00  147113078  \\t张老师\\t  55048  \\t数学与物理学院\\t  \\t其他院系\\t   \n",
      "\n",
      "     group3      事件类型       课程id     课程名          班级名        班级id 任务点类型 任务点名称  \\\n",
      "0  \\t其他院系\\t  \\t创建课程\\t  222668992  大学物理A1          NaN         NaN   NaN   NaN   \n",
      "1  \\t其他院系\\t  \\t创建班级\\t  222668992  大学物理A1     \\t默认班级\\t  50655125.0   NaN   NaN   \n",
      "2  \\t其他院系\\t  \\t创建班级\\t  222668992  大学物理A1  大学物理A1-0009  50655126.0   NaN   NaN   \n",
      "3  \\t其他院系\\t  \\t创建班级\\t  222668992  大学物理A1  大学物理A1-0010  50655128.0   NaN   NaN   \n",
      "4  \\t其他院系\\t  \\t创建班级\\t  222668992  大学物理A1  大学物理A1-0008  50655129.0   NaN   NaN   \n",
      "\n",
      "       设备         IP  省份  城市  \n",
      "0  \\tpc\\t  10.0.14.8 NaN NaN  \n",
      "1  \\tpc\\t  10.0.14.8 NaN NaN  \n",
      "2  \\tpc\\t  10.0.14.8 NaN NaN  \n",
      "3  \\tpc\\t  10.0.14.8 NaN NaN  \n",
      "4  \\tpc\\t  10.0.14.8 NaN NaN  \n",
      "(119957, 18)\n"
     ]
    }
   ],
   "source": [
    "import pandas as pd\n",
    "\n",
    "df = pd.read_csv('dxwl.csv')\n",
    "print(df.head())\n",
    "print(df.shape)"
   ]
  },
  {
   "cell_type": "code",
   "execution_count": 20,
   "id": "fc2ca207",
   "metadata": {},
   "outputs": [
    {
     "data": {
      "text/plain": [
       "<PandasArray>\n",
       "['2022-02-14 10:23:57', '2022-02-14 10:23:57', '2022-02-14 10:23:57',\n",
       " '2022-02-14 10:23:59', '2022-02-14 10:24:00', '2022-02-14 10:27:17',\n",
       " '2022-02-14 10:27:36', '2022-02-14 10:27:48', '2022-02-14 10:27:59',\n",
       " '2022-02-14 10:28:12',\n",
       " ...\n",
       " '2022-08-22 10:57:45', '2022-08-23 14:38:42', '2022-08-24 08:52:34',\n",
       " '2022-08-24 21:18:28', '2022-08-24 21:36:30', '2022-08-26 09:52:55',\n",
       " '2022-08-26 16:34:42', '2022-08-26 16:34:42', '2022-08-26 16:34:42',\n",
       " '2022-08-26 16:34:42']\n",
       "Length: 119957, dtype: object"
      ]
     },
     "execution_count": 20,
     "metadata": {},
     "output_type": "execute_result"
    }
   ],
   "source": [
    "date = df['时间']\n",
    "date.head().index\n",
    "type(date)\n",
    "date.values\n",
    "\n",
    "import numpy as np\n",
    "date.array"
   ]
  },
  {
   "cell_type": "code",
   "execution_count": 21,
   "id": "ed286b5f",
   "metadata": {},
   "outputs": [
    {
     "data": {
      "text/plain": [
       "1"
      ]
     },
     "execution_count": 21,
     "metadata": {},
     "output_type": "execute_result"
    }
   ],
   "source": [
    "date.ndim"
   ]
  },
  {
   "cell_type": "code",
   "execution_count": 22,
   "id": "172d8030",
   "metadata": {},
   "outputs": [
    {
     "data": {
      "text/plain": [
       "dtype('O')"
      ]
     },
     "execution_count": 22,
     "metadata": {},
     "output_type": "execute_result"
    }
   ],
   "source": [
    "date.dtype"
   ]
  },
  {
   "cell_type": "code",
   "execution_count": 24,
   "id": "71950186",
   "metadata": {},
   "outputs": [
    {
     "data": {
      "text/plain": [
       "0         2022-02-14 10:23:57\n",
       "1         2022-02-14 10:23:57\n",
       "2         2022-02-14 10:23:57\n",
       "3         2022-02-14 10:23:59\n",
       "4         2022-02-14 10:24:00\n",
       "                 ...         \n",
       "119952    2022-08-26 09:52:55\n",
       "119953    2022-08-26 16:34:42\n",
       "119954    2022-08-26 16:34:42\n",
       "119955    2022-08-26 16:34:42\n",
       "119956    2022-08-26 16:34:42\n",
       "Name: 时间, Length: 119957, dtype: object"
      ]
     },
     "execution_count": 24,
     "metadata": {},
     "output_type": "execute_result"
    }
   ],
   "source": [
    "date_copy = date.copy()\n",
    "date_copy"
   ]
  },
  {
   "cell_type": "code",
   "execution_count": 27,
   "id": "5f2d90e0",
   "metadata": {},
   "outputs": [
    {
     "data": {
      "text/plain": [
       "True"
      ]
     },
     "execution_count": 27,
     "metadata": {},
     "output_type": "execute_result"
    }
   ],
   "source": [
    "pd.Series([True]).bool()"
   ]
  },
  {
   "cell_type": "code",
   "execution_count": 28,
   "id": "fc92de25",
   "metadata": {},
   "outputs": [
    {
     "data": {
      "text/plain": [
       "<PandasArray>\n",
       "['2022-02-14 10:23:57', '2022-02-14 10:23:57', '2022-02-14 10:23:57',\n",
       " '2022-02-14 10:23:59', '2022-02-14 10:24:00', '2022-02-14 10:27:17',\n",
       " '2022-02-14 10:27:36', '2022-02-14 10:27:48', '2022-02-14 10:27:59',\n",
       " '2022-02-14 10:28:12',\n",
       " ...\n",
       " '2022-08-22 10:57:45', '2022-08-23 14:38:42', '2022-08-24 08:52:34',\n",
       " '2022-08-24 21:18:28', '2022-08-24 21:36:30', '2022-08-26 09:52:55',\n",
       " '2022-08-26 16:34:42', '2022-08-26 16:34:42', '2022-08-26 16:34:42',\n",
       " '2022-08-26 16:34:42']\n",
       "Length: 119957, dtype: object"
      ]
     },
     "execution_count": 28,
     "metadata": {},
     "output_type": "execute_result"
    }
   ],
   "source": [
    "date.array"
   ]
  },
  {
   "cell_type": "code",
   "execution_count": 29,
   "id": "b243a755",
   "metadata": {},
   "outputs": [
    {
     "data": {
      "text/plain": [
       "array(['2022-02-14 10:23:57', '2022-02-14 10:23:57',\n",
       "       '2022-02-14 10:23:57', ..., '2022-08-26 16:34:42',\n",
       "       '2022-08-26 16:34:42', '2022-08-26 16:34:42'], dtype=object)"
      ]
     },
     "execution_count": 29,
     "metadata": {},
     "output_type": "execute_result"
    }
   ],
   "source": [
    "date.to_numpy()"
   ]
  },
  {
   "cell_type": "code",
   "execution_count": 32,
   "id": "a0cd696b",
   "metadata": {},
   "outputs": [
    {
     "data": {
      "text/plain": [
       "DatetimeIndex(['2022-02-28', '2022-03-31', '2022-04-30', '2022-05-31',\n",
       "               '2022-06-30', '2022-07-31'],\n",
       "              dtype='datetime64[ns]', freq='M')"
      ]
     },
     "execution_count": 32,
     "metadata": {},
     "output_type": "execute_result"
    }
   ],
   "source": [
    "date_range1 = pd.date_range(start=\"2022/2/14\",end = \"2022/8/14\",freq = \"M\")\n",
    "date_range1"
   ]
  },
  {
   "cell_type": "code",
   "execution_count": 33,
   "id": "609e3a82",
   "metadata": {},
   "outputs": [
    {
     "data": {
      "text/plain": [
       "'2022-02-14 10:28:12'"
      ]
     },
     "execution_count": 33,
     "metadata": {},
     "output_type": "execute_result"
    }
   ],
   "source": [
    "date.get()"
   ]
  },
  {
   "cell_type": "code",
   "execution_count": 34,
   "id": "2390ac7c",
   "metadata": {},
   "outputs": [
    {
     "data": {
      "text/html": [
       "<div>\n",
       "<style scoped>\n",
       "    .dataframe tbody tr th:only-of-type {\n",
       "        vertical-align: middle;\n",
       "    }\n",
       "\n",
       "    .dataframe tbody tr th {\n",
       "        vertical-align: top;\n",
       "    }\n",
       "\n",
       "    .dataframe thead th {\n",
       "        text-align: right;\n",
       "    }\n",
       "</style>\n",
       "<table border=\"1\" class=\"dataframe\">\n",
       "  <thead>\n",
       "    <tr style=\"text-align: right;\">\n",
       "      <th></th>\n",
       "      <th>max_speed</th>\n",
       "      <th>shield</th>\n",
       "    </tr>\n",
       "  </thead>\n",
       "  <tbody>\n",
       "    <tr>\n",
       "      <th>cobra</th>\n",
       "      <td>1</td>\n",
       "      <td>2</td>\n",
       "    </tr>\n",
       "    <tr>\n",
       "      <th>viper</th>\n",
       "      <td>4</td>\n",
       "      <td>5</td>\n",
       "    </tr>\n",
       "    <tr>\n",
       "      <th>sidewinder</th>\n",
       "      <td>7</td>\n",
       "      <td>8</td>\n",
       "    </tr>\n",
       "  </tbody>\n",
       "</table>\n",
       "</div>"
      ],
      "text/plain": [
       "            max_speed  shield\n",
       "cobra               1       2\n",
       "viper               4       5\n",
       "sidewinder          7       8"
      ]
     },
     "execution_count": 34,
     "metadata": {},
     "output_type": "execute_result"
    }
   ],
   "source": [
    "df = pd.DataFrame([[1, 2], [4, 5], [7, 8]],\n",
    "     index=['cobra', 'viper', 'sidewinder'],\n",
    "     columns=['max_speed', 'shield'])\n",
    "df"
   ]
  },
  {
   "cell_type": "code",
   "execution_count": 35,
   "id": "66fa2822",
   "metadata": {},
   "outputs": [
    {
     "data": {
      "text/plain": [
       "max_speed    4\n",
       "shield       5\n",
       "Name: viper, dtype: int64"
      ]
     },
     "execution_count": 35,
     "metadata": {},
     "output_type": "execute_result"
    }
   ],
   "source": [
    "df.loc['viper']"
   ]
  },
  {
   "cell_type": "code",
   "execution_count": 37,
   "id": "327f614f",
   "metadata": {},
   "outputs": [
    {
     "data": {
      "text/plain": [
       "max_speed    1\n",
       "shield       2\n",
       "Name: cobra, dtype: int64"
      ]
     },
     "execution_count": 37,
     "metadata": {},
     "output_type": "execute_result"
    }
   ],
   "source": [
    "df.iloc[0]"
   ]
  },
  {
   "cell_type": "code",
   "execution_count": 57,
   "id": "f9c09479",
   "metadata": {},
   "outputs": [
    {
     "data": {
      "text/plain": [
       "0         2022-02-14 10:23:57\n",
       "1         2022-02-14 10:23:57\n",
       "2         2022-02-14 10:23:57\n",
       "3         2022-02-14 10:23:59\n",
       "4         2022-02-14 10:24:00\n",
       "                 ...         \n",
       "119952    2022-08-26 09:52:55\n",
       "119953    2022-08-26 16:34:42\n",
       "119954    2022-08-26 16:34:42\n",
       "119955    2022-08-26 16:34:42\n",
       "119956    2022-08-26 16:34:42\n",
       "Name: 时间, Length: 119957, dtype: object"
      ]
     },
     "execution_count": 57,
     "metadata": {},
     "output_type": "execute_result"
    }
   ],
   "source": [
    "date_range1 = pd.date_range(start=\"2022/2/14\",end = \"2022/8/26\",freq = \"M\")\n",
    "date_range1\n",
    "\n",
    "# date.loc([df['时间']<date_range1[1]])\n",
    "\n",
    "df = pd.read_csv('dxwl.csv')\n",
    "date2 = df['时间']\n",
    "date2"
   ]
  },
  {
   "cell_type": "code",
   "execution_count": 58,
   "id": "b28738f1",
   "metadata": {},
   "outputs": [
    {
     "data": {
      "text/plain": [
       "(119957,)"
      ]
     },
     "execution_count": 58,
     "metadata": {},
     "output_type": "execute_result"
    }
   ],
   "source": [
    "date2.shape"
   ]
  },
  {
   "cell_type": "code",
   "execution_count": 78,
   "id": "99c6b4d3",
   "metadata": {},
   "outputs": [
    {
     "data": {
      "text/plain": [
       "False"
      ]
     },
     "execution_count": 78,
     "metadata": {},
     "output_type": "execute_result"
    }
   ],
   "source": [
    "date2.get(0)\n",
    "date2_str = date2.at[0].split(\" \")[0].format()\n",
    "\n",
    "from datetime import datetime\n",
    "date2_datetime = datetime.strptime(date2_str,'%Y-%m-%d')\n",
    "type(date2_datetime)\n",
    "\n",
    "date_range1 = pd.date_range(start=\"2022/2/14\",end = \"2022/8/26\",freq = \"M\")\n",
    "date_range1.dtype\n"
   ]
  },
  {
   "cell_type": "code",
   "execution_count": 81,
   "id": "a95dbc91",
   "metadata": {},
   "outputs": [
    {
     "data": {
      "text/html": [
       "<div>\n",
       "<style scoped>\n",
       "    .dataframe tbody tr th:only-of-type {\n",
       "        vertical-align: middle;\n",
       "    }\n",
       "\n",
       "    .dataframe tbody tr th {\n",
       "        vertical-align: top;\n",
       "    }\n",
       "\n",
       "    .dataframe thead th {\n",
       "        text-align: right;\n",
       "    }\n",
       "</style>\n",
       "<table border=\"1\" class=\"dataframe\">\n",
       "  <thead>\n",
       "    <tr style=\"text-align: right;\">\n",
       "      <th></th>\n",
       "      <th>姓名</th>\n",
       "      <th>事件类型</th>\n",
       "    </tr>\n",
       "  </thead>\n",
       "  <tbody>\n",
       "    <tr>\n",
       "      <th>1080</th>\n",
       "      <td>\\t张子涵\\t</td>\n",
       "      <td>\\t参与签到\\t</td>\n",
       "    </tr>\n",
       "    <tr>\n",
       "      <th>1305</th>\n",
       "      <td>\\t张子涵\\t</td>\n",
       "      <td>\\t提交考试\\t</td>\n",
       "    </tr>\n",
       "    <tr>\n",
       "      <th>1311</th>\n",
       "      <td>\\t张子涵\\t</td>\n",
       "      <td>\\t获得考试成绩\\t</td>\n",
       "    </tr>\n",
       "    <tr>\n",
       "      <th>1397</th>\n",
       "      <td>\\t张子涵\\t</td>\n",
       "      <td>\\t学生访问章节\\t</td>\n",
       "    </tr>\n",
       "    <tr>\n",
       "      <th>1871</th>\n",
       "      <td>\\t张子涵\\t</td>\n",
       "      <td>\\t学生访问章节\\t</td>\n",
       "    </tr>\n",
       "    <tr>\n",
       "      <th>...</th>\n",
       "      <td>...</td>\n",
       "      <td>...</td>\n",
       "    </tr>\n",
       "    <tr>\n",
       "      <th>119744</th>\n",
       "      <td>\\t张子涵\\t</td>\n",
       "      <td>\\t学生访问章节\\t</td>\n",
       "    </tr>\n",
       "    <tr>\n",
       "      <th>119878</th>\n",
       "      <td>\\t张子涵\\t</td>\n",
       "      <td>\\t学生访问章节\\t</td>\n",
       "    </tr>\n",
       "    <tr>\n",
       "      <th>119879</th>\n",
       "      <td>\\t张子涵\\t</td>\n",
       "      <td>\\t学生访问章节\\t</td>\n",
       "    </tr>\n",
       "    <tr>\n",
       "      <th>119880</th>\n",
       "      <td>\\t张子涵\\t</td>\n",
       "      <td>\\t学生访问章节\\t</td>\n",
       "    </tr>\n",
       "    <tr>\n",
       "      <th>119881</th>\n",
       "      <td>\\t张子涵\\t</td>\n",
       "      <td>\\t学生访问章节\\t</td>\n",
       "    </tr>\n",
       "  </tbody>\n",
       "</table>\n",
       "<p>903 rows × 2 columns</p>\n",
       "</div>"
      ],
      "text/plain": [
       "             姓名        事件类型\n",
       "1080    \\t张子涵\\t    \\t参与签到\\t\n",
       "1305    \\t张子涵\\t    \\t提交考试\\t\n",
       "1311    \\t张子涵\\t  \\t获得考试成绩\\t\n",
       "1397    \\t张子涵\\t  \\t学生访问章节\\t\n",
       "1871    \\t张子涵\\t  \\t学生访问章节\\t\n",
       "...         ...         ...\n",
       "119744  \\t张子涵\\t  \\t学生访问章节\\t\n",
       "119878  \\t张子涵\\t  \\t学生访问章节\\t\n",
       "119879  \\t张子涵\\t  \\t学生访问章节\\t\n",
       "119880  \\t张子涵\\t  \\t学生访问章节\\t\n",
       "119881  \\t张子涵\\t  \\t学生访问章节\\t\n",
       "\n",
       "[903 rows x 2 columns]"
      ]
     },
     "execution_count": 81,
     "metadata": {},
     "output_type": "execute_result"
    }
   ],
   "source": [
    "student1 = df.loc[(df['姓名']==\"\\t张子涵\\t\"),['姓名','事件类型']]\n",
    "student1\n",
    "student1.get_dummies()"
   ]
  },
  {
   "cell_type": "code",
   "execution_count": 83,
   "id": "db18b37a",
   "metadata": {},
   "outputs": [
    {
     "data": {
      "text/plain": [
       "a    2.0\n",
       "b    2.0\n",
       "c    2.0\n",
       "d    2.0\n",
       "e    NaN\n",
       "dtype: float64"
      ]
     },
     "execution_count": 83,
     "metadata": {},
     "output_type": "execute_result"
    }
   ],
   "source": [
    "a = pd.Series([1, 1, 1, np.nan], index=['a', 'b', 'c', 'd'])\n",
    "a\n",
    "b = pd.Series([1, np.nan, 1, np.nan], index=['a', 'b', 'd', 'e'])\n",
    "b\n",
    "a.add(b,fill_value = 1)"
   ]
  },
  {
   "cell_type": "code",
   "execution_count": 85,
   "id": "80e43f0e",
   "metadata": {},
   "outputs": [
    {
     "data": {
      "text/plain": [
       "Falcon    390.0\n",
       "Falcon    350.0\n",
       "Parrot     30.0\n",
       "Parrot     20.0\n",
       "Name: Max Speed, dtype: float64"
      ]
     },
     "execution_count": 85,
     "metadata": {},
     "output_type": "execute_result"
    }
   ],
   "source": [
    "ser = pd.Series([390., 350., 30., 20.],\n",
    "                index=['Falcon', 'Falcon', 'Parrot', 'Parrot'],\n",
    "              name=\"Max Speed\")\n",
    "\n",
    "# Name: Max Speed, dtype: float64\n",
    "# >>> ser.groupby([\"a\", \"b\", \"a\", \"b\"]).mean()\n",
    "# a    210.0\n",
    "# b    185.0\n",
    "# Name: Max Speed, dtype: float64\n",
    "# >>> ser.groupby(level=0).mean()\n",
    "# Falcon    370.0\n",
    "# Parrot     25.0\n",
    "# Name: Max Speed, dtype: float64\n",
    "# >>> ser.groupby(ser > 100).mean()\n",
    "# Max Speed\n",
    "# False     25.0\n",
    "# True     370.0\n",
    "# Name: Max Speed, dtype: float64\n",
    "ser"
   ]
  },
  {
   "cell_type": "code",
   "execution_count": 91,
   "id": "0e887c7d",
   "metadata": {},
   "outputs": [
    {
     "ename": "AttributeError",
     "evalue": "'SeriesGroupBy' object has no attribute 'loc'",
     "output_type": "error",
     "traceback": [
      "\u001b[1;31m---------------------------------------------------------------------------\u001b[0m",
      "\u001b[1;31mAttributeError\u001b[0m                            Traceback (most recent call last)",
      "Cell \u001b[1;32mIn[91], line 1\u001b[0m\n\u001b[1;32m----> 1\u001b[0m \u001b[43mser\u001b[49m\u001b[38;5;241;43m.\u001b[39;49m\u001b[43mgroupby\u001b[49m\u001b[43m(\u001b[49m\u001b[43m[\u001b[49m\u001b[38;5;124;43m\"\u001b[39;49m\u001b[38;5;124;43ma\u001b[39;49m\u001b[38;5;124;43m\"\u001b[39;49m\u001b[43m,\u001b[49m\u001b[43m \u001b[49m\u001b[38;5;124;43m\"\u001b[39;49m\u001b[38;5;124;43mb\u001b[39;49m\u001b[38;5;124;43m\"\u001b[39;49m\u001b[43m,\u001b[49m\u001b[43m \u001b[49m\u001b[38;5;124;43m\"\u001b[39;49m\u001b[38;5;124;43ma\u001b[39;49m\u001b[38;5;124;43m\"\u001b[39;49m\u001b[43m,\u001b[49m\u001b[43m \u001b[49m\u001b[38;5;124;43m\"\u001b[39;49m\u001b[38;5;124;43mb\u001b[39;49m\u001b[38;5;124;43m\"\u001b[39;49m\u001b[43m]\u001b[49m\u001b[43m)\u001b[49m\u001b[38;5;241;43m.\u001b[39;49m\u001b[43mloc\u001b[49m[\u001b[38;5;124m\"\u001b[39m\u001b[38;5;124ma\u001b[39m\u001b[38;5;124m\"\u001b[39m]\n",
      "File \u001b[1;32m~\\AppData\\Local\\Programs\\Python\\Python310\\lib\\site-packages\\pandas\\core\\groupby\\groupby.py:987\u001b[0m, in \u001b[0;36mGroupBy.__getattr__\u001b[1;34m(self, attr)\u001b[0m\n\u001b[0;32m    984\u001b[0m \u001b[38;5;28;01mif\u001b[39;00m attr \u001b[38;5;129;01min\u001b[39;00m \u001b[38;5;28mself\u001b[39m\u001b[38;5;241m.\u001b[39mobj:\n\u001b[0;32m    985\u001b[0m     \u001b[38;5;28;01mreturn\u001b[39;00m \u001b[38;5;28mself\u001b[39m[attr]\n\u001b[1;32m--> 987\u001b[0m \u001b[38;5;28;01mraise\u001b[39;00m \u001b[38;5;167;01mAttributeError\u001b[39;00m(\n\u001b[0;32m    988\u001b[0m     \u001b[38;5;124mf\u001b[39m\u001b[38;5;124m\"\u001b[39m\u001b[38;5;124m'\u001b[39m\u001b[38;5;132;01m{\u001b[39;00m\u001b[38;5;28mtype\u001b[39m(\u001b[38;5;28mself\u001b[39m)\u001b[38;5;241m.\u001b[39m\u001b[38;5;18m__name__\u001b[39m\u001b[38;5;132;01m}\u001b[39;00m\u001b[38;5;124m'\u001b[39m\u001b[38;5;124m object has no attribute \u001b[39m\u001b[38;5;124m'\u001b[39m\u001b[38;5;132;01m{\u001b[39;00mattr\u001b[38;5;132;01m}\u001b[39;00m\u001b[38;5;124m'\u001b[39m\u001b[38;5;124m\"\u001b[39m\n\u001b[0;32m    989\u001b[0m )\n",
      "\u001b[1;31mAttributeError\u001b[0m: 'SeriesGroupBy' object has no attribute 'loc'"
     ]
    }
   ],
   "source": [
    "ser.groupby([\"a\", \"b\", \"a\", \"b\"])"
   ]
  },
  {
   "cell_type": "code",
   "execution_count": 95,
   "id": "80f0efae",
   "metadata": {
    "scrolled": true
   },
   "outputs": [
    {
     "data": {
      "text/plain": [
       "0     True\n",
       "1    False\n",
       "dtype: bool"
      ]
     },
     "execution_count": 95,
     "metadata": {},
     "output_type": "execute_result"
    }
   ],
   "source": [
    "df3 = pd.DataFrame([[True, True],[True, False]],index = [\"row1\",\"row2\"])\n",
    "df3.all(axis = 'columns')\n",
    "df3.all()"
   ]
  },
  {
   "cell_type": "code",
   "execution_count": 97,
   "id": "024db69e",
   "metadata": {},
   "outputs": [
    {
     "data": {
      "text/html": [
       "<div>\n",
       "<style scoped>\n",
       "    .dataframe tbody tr th:only-of-type {\n",
       "        vertical-align: middle;\n",
       "    }\n",
       "\n",
       "    .dataframe tbody tr th {\n",
       "        vertical-align: top;\n",
       "    }\n",
       "\n",
       "    .dataframe thead th {\n",
       "        text-align: right;\n",
       "    }\n",
       "</style>\n",
       "<table border=\"1\" class=\"dataframe\">\n",
       "  <thead>\n",
       "    <tr style=\"text-align: right;\">\n",
       "      <th></th>\n",
       "      <th>col_0</th>\n",
       "      <th>col_1</th>\n",
       "    </tr>\n",
       "  </thead>\n",
       "  <tbody>\n",
       "    <tr>\n",
       "      <th>0</th>\n",
       "      <td>9</td>\n",
       "      <td>-2</td>\n",
       "    </tr>\n",
       "    <tr>\n",
       "      <th>1</th>\n",
       "      <td>-3</td>\n",
       "      <td>-7</td>\n",
       "    </tr>\n",
       "    <tr>\n",
       "      <th>2</th>\n",
       "      <td>0</td>\n",
       "      <td>6</td>\n",
       "    </tr>\n",
       "    <tr>\n",
       "      <th>3</th>\n",
       "      <td>-1</td>\n",
       "      <td>8</td>\n",
       "    </tr>\n",
       "    <tr>\n",
       "      <th>4</th>\n",
       "      <td>5</td>\n",
       "      <td>-5</td>\n",
       "    </tr>\n",
       "  </tbody>\n",
       "</table>\n",
       "</div>"
      ],
      "text/plain": [
       "   col_0  col_1\n",
       "0      9     -2\n",
       "1     -3     -7\n",
       "2      0      6\n",
       "3     -1      8\n",
       "4      5     -5"
      ]
     },
     "execution_count": 97,
     "metadata": {},
     "output_type": "execute_result"
    }
   ],
   "source": [
    "data = {'col_0': [9, -3, 0, -1, 5], 'col_1': [-2, -7, 6, 8, -5]}\n",
    "df = pd.DataFrame(data)\n",
    "df"
   ]
  },
  {
   "cell_type": "code",
   "execution_count": 103,
   "id": "1abb2d79",
   "metadata": {},
   "outputs": [
    {
     "data": {
      "text/html": [
       "<div>\n",
       "<style scoped>\n",
       "    .dataframe tbody tr th:only-of-type {\n",
       "        vertical-align: middle;\n",
       "    }\n",
       "\n",
       "    .dataframe tbody tr th {\n",
       "        vertical-align: top;\n",
       "    }\n",
       "\n",
       "    .dataframe thead th {\n",
       "        text-align: right;\n",
       "    }\n",
       "</style>\n",
       "<table border=\"1\" class=\"dataframe\">\n",
       "  <thead>\n",
       "    <tr style=\"text-align: right;\">\n",
       "      <th></th>\n",
       "      <th>col_0</th>\n",
       "      <th>col_1</th>\n",
       "    </tr>\n",
       "  </thead>\n",
       "  <tbody>\n",
       "    <tr>\n",
       "      <th>0</th>\n",
       "      <td>6</td>\n",
       "      <td>-2</td>\n",
       "    </tr>\n",
       "    <tr>\n",
       "      <th>1</th>\n",
       "      <td>-3</td>\n",
       "      <td>-4</td>\n",
       "    </tr>\n",
       "    <tr>\n",
       "      <th>2</th>\n",
       "      <td>0</td>\n",
       "      <td>6</td>\n",
       "    </tr>\n",
       "    <tr>\n",
       "      <th>3</th>\n",
       "      <td>-1</td>\n",
       "      <td>6</td>\n",
       "    </tr>\n",
       "    <tr>\n",
       "      <th>4</th>\n",
       "      <td>5</td>\n",
       "      <td>-4</td>\n",
       "    </tr>\n",
       "  </tbody>\n",
       "</table>\n",
       "</div>"
      ],
      "text/plain": [
       "   col_0  col_1\n",
       "0      6     -2\n",
       "1     -3     -4\n",
       "2      0      6\n",
       "3     -1      6\n",
       "4      5     -4"
      ]
     },
     "execution_count": 103,
     "metadata": {},
     "output_type": "execute_result"
    }
   ],
   "source": [
    "df.clip(-4,6,axis=None)"
   ]
  },
  {
   "cell_type": "code",
   "execution_count": 109,
   "id": "c802dad4",
   "metadata": {},
   "outputs": [
    {
     "data": {
      "text/html": [
       "<div>\n",
       "<style scoped>\n",
       "    .dataframe tbody tr th:only-of-type {\n",
       "        vertical-align: middle;\n",
       "    }\n",
       "\n",
       "    .dataframe tbody tr th {\n",
       "        vertical-align: top;\n",
       "    }\n",
       "\n",
       "    .dataframe thead th {\n",
       "        text-align: right;\n",
       "    }\n",
       "</style>\n",
       "<table border=\"1\" class=\"dataframe\">\n",
       "  <thead>\n",
       "    <tr style=\"text-align: right;\">\n",
       "      <th></th>\n",
       "      <th>col_0</th>\n",
       "      <th>col_1</th>\n",
       "    </tr>\n",
       "  </thead>\n",
       "  <tbody>\n",
       "    <tr>\n",
       "      <th>0</th>\n",
       "      <td>9</td>\n",
       "      <td>-2</td>\n",
       "    </tr>\n",
       "    <tr>\n",
       "      <th>1</th>\n",
       "      <td>-3</td>\n",
       "      <td>-7</td>\n",
       "    </tr>\n",
       "    <tr>\n",
       "      <th>2</th>\n",
       "      <td>0</td>\n",
       "      <td>6</td>\n",
       "    </tr>\n",
       "    <tr>\n",
       "      <th>3</th>\n",
       "      <td>-1</td>\n",
       "      <td>8</td>\n",
       "    </tr>\n",
       "    <tr>\n",
       "      <th>4</th>\n",
       "      <td>5</td>\n",
       "      <td>-5</td>\n",
       "    </tr>\n",
       "  </tbody>\n",
       "</table>\n",
       "</div>"
      ],
      "text/plain": [
       "   col_0  col_1\n",
       "0      9     -2\n",
       "1     -3     -7\n",
       "2      0      6\n",
       "3     -1      8\n",
       "4      5     -5"
      ]
     },
     "execution_count": 109,
     "metadata": {},
     "output_type": "execute_result"
    }
   ],
   "source": [
    "df"
   ]
  },
  {
   "cell_type": "code",
   "execution_count": 114,
   "id": "182b282d",
   "metadata": {},
   "outputs": [
    {
     "data": {
      "text/plain": [
       "-3"
      ]
     },
     "execution_count": 114,
     "metadata": {},
     "output_type": "execute_result"
    }
   ],
   "source": [
    "\n",
    "df.iloc[:,0].min()"
   ]
  },
  {
   "cell_type": "code",
   "execution_count": 116,
   "id": "550bbe2a",
   "metadata": {},
   "outputs": [
    {
     "data": {
      "text/plain": [
       "0    2\n",
       "1    1\n",
       "2    3\n",
       "3    3\n",
       "Name: A, dtype: int64"
      ]
     },
     "execution_count": 116,
     "metadata": {},
     "output_type": "execute_result"
    }
   ],
   "source": [
    ">>> pd.Series([2, 1, 3, 3], name='A')\n"
   ]
  },
  {
   "cell_type": "code",
   "execution_count": 119,
   "id": "932a0c8a",
   "metadata": {},
   "outputs": [],
   "source": [
    "date1 = pd.Series([pd.Timestamp('2016-01-01') for _ in range(3)])\n"
   ]
  },
  {
   "cell_type": "code",
   "execution_count": 120,
   "id": "1ca38743",
   "metadata": {},
   "outputs": [
    {
     "data": {
      "text/plain": [
       "1"
      ]
     },
     "execution_count": 120,
     "metadata": {},
     "output_type": "execute_result"
    }
   ],
   "source": [
    "date1.nunique()"
   ]
  },
  {
   "cell_type": "code",
   "execution_count": null,
   "id": "78bb16a4",
   "metadata": {},
   "outputs": [],
   "source": []
  }
 ],
 "metadata": {
  "kernelspec": {
   "display_name": "EDM",
   "language": "python",
   "name": "edm"
  },
  "language_info": {
   "codemirror_mode": {
    "name": "ipython",
    "version": 3
   },
   "file_extension": ".py",
   "mimetype": "text/x-python",
   "name": "python",
   "nbconvert_exporter": "python",
   "pygments_lexer": "ipython3",
   "version": "3.10.7"
  }
 },
 "nbformat": 4,
 "nbformat_minor": 5
}
